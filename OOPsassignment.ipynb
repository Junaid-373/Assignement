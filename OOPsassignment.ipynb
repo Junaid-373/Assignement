{
  "nbformat": 4,
  "nbformat_minor": 0,
  "metadata": {
    "colab": {
      "provenance": []
    },
    "kernelspec": {
      "name": "python3",
      "display_name": "Python 3"
    },
    "language_info": {
      "name": "python"
    }
  },
  "cells": [
    {
      "cell_type": "markdown",
      "source": [
        "# OOPS ASSIGNMENT\n",
        "## 2. Write a Python class for a `Car` with attributes for `make`, `model`, and `year`. Include a method to display the car's information.\n",
        "\n",
        "\n"
      ],
      "metadata": {
        "id": "4ajDhXx9MJn1"
      }
    },
    {
      "cell_type": "code",
      "source": [
        "class car:\n",
        "  def __init__(self,make,model,year):\n",
        "    self.make=make\n",
        "    self.model=model\n",
        "    self.year=year"
      ],
      "metadata": {
        "id": "DpoW5YW8MVrY"
      },
      "execution_count": null,
      "outputs": []
    },
    {
      "cell_type": "markdown",
      "source": [
        "\n",
        "\n",
        "---\n",
        "\n",
        "\n",
        "## 6. Describe the five types of inheritance in Python. Provide a simple example of multiple inheritance\n"
      ],
      "metadata": {
        "id": "vARRZ43UI9JA"
      }
    },
    {
      "cell_type": "markdown",
      "source": [
        "### There are four types of inheritance in Python:\n",
        "#### SINGLE INHERITANCE --\n",
        "Single inheritance enables a derived class to inherit properties from a single parent class, thus enabling code reusability and the addition of new features to existing code.\n",
        "#### MULTIPLE INHERITANCE --\n",
        "When a class can be derived from more than one base class this type of inheritance is called multiple inheritances. In multiple inheritances, all the features of the base classes are inherited into the derived class.\n",
        "EX --\n",
        "\n",
        "\n"
      ],
      "metadata": {
        "id": "F4BRneQNJEIY"
      }
    },
    {
      "cell_type": "code",
      "source": [
        "class Mother:\n",
        "    mothername = \"\"\n",
        "    def mother(self):\n",
        "        print(self.mothername)\n",
        "class Father:\n",
        "    fathername = \"\"\n",
        "    def father(self):\n",
        "        print(self.fathername)\n",
        "class Son(Mother, Father):\n",
        "    def parents(self):\n",
        "        print(\"Father :\", self.fathername)\n",
        "        print(\"Mother :\", self.mothername)\n",
        "s1 = Son()\n",
        "s1.fathername = \"RAM\"\n",
        "s1.mothername = \"SITA\"\n",
        "s1.parents()"
      ],
      "metadata": {
        "colab": {
          "base_uri": "https://localhost:8080/"
        },
        "id": "ybSR4QTbJ-pE",
        "outputId": "93b95dac-2cf3-4755-ca55-a66f949088fe"
      },
      "execution_count": 1,
      "outputs": [
        {
          "output_type": "stream",
          "name": "stdout",
          "text": [
            "Father : RAM\n",
            "Mother : SITA\n"
          ]
        }
      ]
    },
    {
      "cell_type": "markdown",
      "source": [
        "#### MULTILEVEL INHERITANCE --\n",
        "In multilevel inheritance, features of the base class and the derived class are further inherited into the new derived class. This is similar to a relationship representing a child and a grandfather.\n",
        "#### HEIRARCHIAL INHERITANCE --\n",
        "When more than one derived class are created from a single base this type of inheritance is called hierarchical inheritance. In this program, we have a parent (base) class and two child (derived) classes.\n",
        "\n",
        "\n",
        "---\n",
        "\n",
        "\n",
        "\n"
      ],
      "metadata": {
        "id": "HItsPbDiKFCK"
      }
    },
    {
      "cell_type": "markdown",
      "source": [
        "## 7. What is the Method Resolution Order (MRO) in Python? How can you retrieve it programmatically?\n",
        "MRO determines the order in which base classes are searched when executing a method. It is determined using the C3 linearization algorithm, also known as C3 superclass linearization. You can view the MRO of a class using the __mro__ attribute or the mro() method\n",
        "Method Resolution Order (MRO) is the order in which Python looks for a method in a hierarchy of classes. Especially it plays vital role in the context of multiple inheritance as single method may be found in multiple super classes. To understand the concept of MRO and its need, lets examine a few cases."
      ],
      "metadata": {
        "id": "nGZ6mY14KlZZ"
      }
    },
    {
      "cell_type": "code",
      "source": [
        "class A:\n",
        "    def myname(self):\n",
        "        print(\"I am a class A\")\n",
        "\n",
        "class B(A):\n",
        "    def myname(self):\n",
        "        print(\"I am a class B\")\n",
        "\n",
        "class C(A):\n",
        "    def myname(self):\n",
        "        print(\"I am a class C\")\n",
        "c = C()\n",
        "print(c.myname())"
      ],
      "metadata": {
        "colab": {
          "base_uri": "https://localhost:8080/"
        },
        "id": "ksXT5KiQLANT",
        "outputId": "446a1160-53f5-42ff-8e20-8cad5be384ee"
      },
      "execution_count": 7,
      "outputs": [
        {
          "output_type": "stream",
          "name": "stdout",
          "text": [
            "I am a class C\n",
            "None\n"
          ]
        }
      ]
    },
    {
      "cell_type": "markdown",
      "source": [
        "## 8. Create an abstract base class `Shape` with an abstract method `area()`. Then create two subclasses `Circle` and `Rectangle` that implement the `area()` method.\n",
        "\n"
      ],
      "metadata": {
        "id": "FM24Mgu3LnKp"
      }
    },
    {
      "cell_type": "code",
      "source": [
        "from abc import ABC, abstractmethod\n",
        "import math\n",
        "\n",
        "# Abstract Base Class\n",
        "class Shape(ABC):\n",
        "    @abstractmethod\n",
        "    def area(self):\n",
        "        pass\n",
        "\n",
        "# Subclass for Circle\n",
        "class Circle(Shape):\n",
        "    def __init__(self, radius):\n",
        "        self.radius = radius\n",
        "\n",
        "    def area(self):\n",
        "        return math.pi * self.radius ** 2\n",
        "\n",
        "# Subclass for Rectangle\n",
        "class Rectangle(Shape):\n",
        "    def __init__(self, width, height):\n",
        "        self.width = width\n",
        "        self.height = height\n",
        "\n",
        "    def area(self):\n",
        "        return self.width * self.height\n",
        "\n",
        "# Example usage\n",
        "circle = Circle(5)\n",
        "rectangle = Rectangle(4, 6)\n",
        "\n",
        "print(\"Area of circle:\", circle.area())         # Output: 78.53981633974483\n",
        "print(\"Area of rectangle:\", rectangle.area())   # Output: 24\n"
      ],
      "metadata": {
        "colab": {
          "base_uri": "https://localhost:8080/"
        },
        "id": "j8GaxvuzL6v0",
        "outputId": "a9a032e9-b438-42c8-a8ef-dcdbd2e06c45"
      },
      "execution_count": 10,
      "outputs": [
        {
          "output_type": "stream",
          "name": "stdout",
          "text": [
            "Area of circle: 78.53981633974483\n",
            "Area of rectangle: 24\n"
          ]
        }
      ]
    },
    {
      "cell_type": "markdown",
      "source": [
        "## 9. Demonstrate polymorphism by creating a function that can work with different shape objects to calculate and print their areas.\n"
      ],
      "metadata": {
        "id": "z_ImeAjAMwvf"
      }
    },
    {
      "cell_type": "code",
      "source": [
        "from abc import ABC, abstractmethod\n",
        "import math\n",
        "\n",
        "# Abstract Base Class\n",
        "class Shape(ABC):\n",
        "    @abstractmethod\n",
        "    def area(self):\n",
        "        pass\n",
        "\n",
        "# Subclass for Circle\n",
        "class Circle(Shape):\n",
        "    def __init__(self, radius):\n",
        "        self.radius = radius\n",
        "\n",
        "    def area(self):\n",
        "        return math.pi * self.radius ** 2\n",
        "\n",
        "# Subclass for Rectangle\n",
        "class Rectangle(Shape):\n",
        "    def __init__(self, width, height):\n",
        "        self.width = width\n",
        "        self.height = height\n",
        "\n",
        "    def area(self):\n",
        "        return self.width * self.height\n",
        "\n",
        "# Function to calculate area of any Shape\n",
        "def print_area(shape: Shape):\n",
        "    print(f\"The area of the {shape.__class__.__name__} is: {shape.area()}\")\n",
        "\n",
        "# Example usage\n",
        "circle = Circle(5)\n",
        "rectangle = Rectangle(4, 6)\n",
        "\n",
        "# Polymorphism in action\n",
        "print_area(circle)      # The area of the Circle is: 78.53981633974483\n",
        "print_area(rectangle)"
      ],
      "metadata": {
        "colab": {
          "base_uri": "https://localhost:8080/"
        },
        "id": "LqWsm54GM2VG",
        "outputId": "52914d77-b4cb-4a59-df75-60ef9411434c"
      },
      "execution_count": 11,
      "outputs": [
        {
          "output_type": "stream",
          "name": "stdout",
          "text": [
            "The area of the Circle is: 78.53981633974483\n",
            "The area of the Rectangle is: 24\n"
          ]
        }
      ]
    },
    {
      "cell_type": "markdown",
      "source": [
        "\n",
        "\n",
        "---\n",
        "\n",
        "\n",
        "## 10. Implement encapsulation in a `BankAccount` class with private attributes for `balance` and  Include methods for deposit, withdrawal, and balance inquiry..`account_number`"
      ],
      "metadata": {
        "id": "kw-jY08fNASs"
      }
    },
    {
      "cell_type": "code",
      "source": [
        "class BankAccount:\n",
        "    def __init__(self, account_number, initial_balance=0.0):\n",
        "        # Private attributes\n",
        "        self.__account_number = account_number\n",
        "        self.__balance = initial_balance\n",
        "\n",
        "    # Public method for deposit\n",
        "    def deposit(self, amount):\n",
        "        if amount > 0:\n",
        "            self.__balance += amount\n",
        "            print(f\"Deposited: ${amount}. New balance: ${self.__balance}\")\n",
        "        else:\n",
        "            print(\"Deposit amount must be positive.\")\n",
        "\n",
        "    # Public method for withdrawal\n",
        "    def withdraw(self, amount):\n",
        "        if amount > 0 and amount <= self.__balance:\n",
        "            self.__balance -= amount\n",
        "            print(f\"Withdrew: ${amount}. New balance: ${self.__balance}\")\n",
        "        elif amount > self.__balance:\n",
        "            print(\"Insufficient balance.\")\n",
        "        else:\n",
        "            print(\"Withdrawal amount must be positive.\")\n",
        "\n",
        "    # Public method to check balance\n",
        "    def get_balance(self):\n",
        "        return self.__balance\n",
        "\n",
        "    # Public method to get account number (for verification purposes)\n",
        "    def get_account_number(self):\n",
        "        return self.__account_number\n",
        "\n",
        "# Example usage\n",
        "account = BankAccount(\"123456789\", 500.0)\n",
        "\n",
        "# Deposit into the account\n",
        "account.deposit(200)\n",
        "\n",
        "# Withdraw from the account\n",
        "account.withdraw(100)\n",
        "\n",
        "# Check balance\n",
        "print(f\"Current balance: ${account.get_balance()}\")\n",
        "\n",
        "# Get account number\n",
        "print(f\"Account number: {account.get_account_number()}\")"
      ],
      "metadata": {
        "colab": {
          "base_uri": "https://localhost:8080/"
        },
        "id": "77YcZAOpNKZF",
        "outputId": "1d0f413d-7958-4364-d677-c40e76389ee6"
      },
      "execution_count": 12,
      "outputs": [
        {
          "output_type": "stream",
          "name": "stdout",
          "text": [
            "Deposited: $200. New balance: $700.0\n",
            "Withdrew: $100. New balance: $600.0\n",
            "Current balance: $600.0\n",
            "Account number: 123456789\n"
          ]
        }
      ]
    },
    {
      "cell_type": "markdown",
      "source": [
        "\n",
        "\n",
        "---\n",
        "\n",
        "\n",
        "## 11. Write a class that overrides the `__str__` and `__add__` magic methods. What will these methods allow you to do?\n",
        " the __str__ and __add__ magic methods (also known as dunder methods or special methods) are used to control the behavior of string representation and addition operations for objects, respectively. By overriding these methods in a class, you can customize how instances of that class are represented as strings and how they can be added together.\n",
        "\n",
        "\n",
        "*   __str__: By overriding this method, you control the string representation of your object when using print() or str(). This allows your objects to have a user-friendly string output\n",
        "*   __add__: By overriding this method, you can use the + operator to add two objects of your class. In this case, it makes sense to add two Point objects by adding their x and y coordinates. This allows the use of the + operator in a natural and intuitive way.\n",
        "\n",
        "\n",
        "---\n",
        "\n",
        "\n",
        "\n",
        "\n"
      ],
      "metadata": {
        "id": "BGLBgp--NXFz"
      }
    },
    {
      "cell_type": "markdown",
      "source": [
        "## 12. Create a decorator that measures and prints the execution time of a function"
      ],
      "metadata": {
        "id": "YH6plQSfNphf"
      }
    },
    {
      "cell_type": "code",
      "source": [
        "import time\n",
        "\n",
        "\n",
        "def measure_time(func):\n",
        "    def wrapper(*args, **kwargs):\n",
        "        start_time = time.time()\n",
        "        result = func(*args, **kwargs)\n",
        "        end_time = time.time()\n",
        "\n",
        "        execution_time = end_time - start_time\n",
        "        print(f\"Execution time of {func.__name__}: {execution_time:.4f} seconds\")\n",
        "\n",
        "        return result\n",
        "\n",
        "    return wrapper\n",
        "@measure_time\n",
        "def slow_function():\n",
        "    time.sleep(2)\n",
        "    print(\"Function completed\")\n",
        "\n",
        "@measure_time\n",
        "def quick_function():\n",
        "    time.sleep(0.5)\n",
        "    print(\"Quick function completed\")\n",
        "\n",
        "slow_function()\n",
        "quick_function()"
      ],
      "metadata": {
        "colab": {
          "base_uri": "https://localhost:8080/"
        },
        "id": "lXENb_EtOMM0",
        "outputId": "bfa3c7a8-f417-4f50-fbe5-e61d8f4d5105"
      },
      "execution_count": 13,
      "outputs": [
        {
          "output_type": "stream",
          "name": "stdout",
          "text": [
            "Function completed\n",
            "Execution time of slow_function: 2.0023 seconds\n",
            "Quick function completed\n",
            "Execution time of quick_function: 0.5008 seconds\n"
          ]
        }
      ]
    },
    {
      "cell_type": "markdown",
      "source": [
        "\n",
        "\n",
        "---\n",
        "\n",
        "\n",
        "## 13. Explain the concept of the Diamond Problem in multiple inheritance. How does Python resolve it?\n",
        "The Diamond Problem (also known as the \"Deadly Diamond of Death\") is an issue that arises in programming languages that support multiple inheritance. It occurs when a class inherits from two classes that both inherit from a common base class. This results in a \"diamond\" shape in the class hierarchy, and the problem comes from ambiguity when methods or attributes are inherited from the common ancestor class.\n",
        "#### PYTHON USE MRO TO SOLVE THIS PROBLEM\n",
        "Python resolves this ambiguity using a method called Method Resolution Order (MRO), which is a well-defined algorithm for determining the order in which base classes are searched when a method is called.\n",
        "\n",
        "\n",
        "---\n",
        "\n"
      ],
      "metadata": {
        "id": "Xria7QOFOdWL"
      }
    },
    {
      "cell_type": "markdown",
      "source": [
        "## 14. Write a class method that keeps track of the number of instances created from a class"
      ],
      "metadata": {
        "id": "gMgZ-NxvO6au"
      }
    },
    {
      "cell_type": "code",
      "source": [
        "class MyClass:\n",
        "    instance_count = 0\n",
        "\n",
        "    def __init__(self):\n",
        "        MyClass.instance_count += 1\n",
        "    @classmethod\n",
        "    def get_instance_count(cls):\n",
        "        return cls.instance_count\n",
        "\n",
        "obj1 = MyClass()\n",
        "obj2 = MyClass()\n",
        "obj3 = MyClass()\n",
        "\n",
        "print(f\"Number of instances created: {MyClass.get_instance_count()}\")"
      ],
      "metadata": {
        "colab": {
          "base_uri": "https://localhost:8080/"
        },
        "id": "9YR9Le_EPDjS",
        "outputId": "080b0d83-02f7-4363-cb31-431100caaf4d"
      },
      "execution_count": 14,
      "outputs": [
        {
          "output_type": "stream",
          "name": "stdout",
          "text": [
            "Number of instances created: 3\n"
          ]
        }
      ]
    },
    {
      "cell_type": "markdown",
      "source": [
        "\n",
        "\n",
        "---\n",
        "## 15. Implement a static method in a class that checks if a given year is a leap year.\n"
      ],
      "metadata": {
        "id": "n4hJr4ydPRqv"
      }
    },
    {
      "cell_type": "code",
      "source": [
        "class Calendar:\n",
        "    @staticmethod\n",
        "    def is_leap_year(year):\n",
        "        if (year % 4 == 0 and year % 100 != 0) or (year % 400 == 0):\n",
        "            return True\n",
        "        else:\n",
        "            return False\n",
        "\n",
        "# Example usage\n",
        "year = 2024\n",
        "if Calendar.is_leap_year(year):\n",
        "    print(f\"{year} is a leap year.\")\n",
        "else:\n",
        "    print(f\"{year} is not a leap year.\")\n",
        "\n",
        "year = 2023\n",
        "if Calendar.is_leap_year(year):\n",
        "    print(f\"{year} is a leap year.\")\n",
        "else:\n",
        "    print(f\"{year} is not a leap year.\")"
      ],
      "metadata": {
        "colab": {
          "base_uri": "https://localhost:8080/"
        },
        "id": "_QCT6hqaPUFY",
        "outputId": "c4ec6e5e-70f0-4ff8-cf8e-5270d45d87ac"
      },
      "execution_count": 15,
      "outputs": [
        {
          "output_type": "stream",
          "name": "stdout",
          "text": [
            "2024 is a leap year.\n",
            "2023 is not a leap year.\n"
          ]
        }
      ]
    }
  ]
}