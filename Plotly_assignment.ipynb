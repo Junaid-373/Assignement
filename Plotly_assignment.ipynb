{
 "cells": [
  {
   "cell_type": "code",
   "execution_count": 1,
   "id": "a4d9db87-1dc5-4bd7-8e8b-4f82a3377c68",
   "metadata": {},
   "outputs": [],
   "source": [
    "import pandas as pd\n",
    "import numpy as np\n",
    "import matplotlib.pyplot as plt\n",
    "import seaborn as sns\n",
    "import warnings\n",
    "warnings.filterwarnings('ignore')\n",
    "import plotly.graph_objects as go\n",
    "import plotly.express as px"
   ]
  },
  {
   "cell_type": "code",
   "execution_count": 12,
   "id": "b4808664-d8bb-4237-80ed-62dfa16bce51",
   "metadata": {},
   "outputs": [
    {
     "ename": "SyntaxError",
     "evalue": "invalid non-printable character U+2028 (1756005586.py, line 6)",
     "output_type": "error",
     "traceback": [
      "\u001b[1;36m  Cell \u001b[1;32mIn[12], line 6\u001b[1;36m\u001b[0m\n\u001b[1;33m    'Y': np.random.uniform(-10, 10, 300),\u001b[0m\n\u001b[1;37m                                         ^\u001b[0m\n\u001b[1;31mSyntaxError\u001b[0m\u001b[1;31m:\u001b[0m invalid non-printable character U+2028\n"
     ]
    }
   ],
   "source": [
    "# 1. Using the given dataset, to generate a 3D scatter plot to visualize the distribution of data points in a three\n",
    "#dimensional space.\n",
    "np.random.seed(30)\n",
    "data={\n",
    " 'X': np.random.uniform(-10, 10, 300),\n",
    " 'Y': np.random.uniform(-10, 10, 300), ",
    "\n",
    " 'Z': np.random.uniform(-10, 10, 300)\n",
    " }\n",
    " \n",
    "df = pd.DataFrame(data)\n",
    "fig = plt.figure(figsize=(10, 7))\n",
    "ax = fig.add_subplot(111, projection='3d')\n",
    "\n",
    "# Scatter plot with data points\n",
    "ax.scatter(df['X'], df['Y'], df['Z'], c='green', alpha=0.6, s=30)\n",
    "\n",
    "# Add axis labels and title\n",
    "ax.set_xlabel('X Axis')\n",
    "ax.set_ylabel('Y Axis')\n",
    "ax.set_zlabel('Z Axis')\n",
    "ax.set_title('3D Scatter Plot of Data Points')\n",
    "\n",
    "# Show the plot\n",
    "plt.show()"
   ]
  },
  {
   "cell_type": "code",
   "execution_count": null,
   "id": "84c3be9f-c53c-44cb-b07b-c964cc72780a",
   "metadata": {},
   "outputs": [],
   "source": []
  },
  {
   "cell_type": "code",
   "execution_count": null,
   "id": "259f382a-485a-41ae-8330-5f65c330596b",
   "metadata": {},
   "outputs": [],
   "source": []
  }
 ],
 "metadata": {
  "kernelspec": {
   "display_name": "Python 3 (ipykernel)",
   "language": "python",
   "name": "python3"
  },
  "language_info": {
   "codemirror_mode": {
    "name": "ipython",
    "version": 3
   },
   "file_extension": ".py",
   "mimetype": "text/x-python",
   "name": "python",
   "nbconvert_exporter": "python",
   "pygments_lexer": "ipython3",
   "version": "3.12.4"
  }
 },
 "nbformat": 4,
 "nbformat_minor": 5
}
