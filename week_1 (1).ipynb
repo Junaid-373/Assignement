{
  "nbformat": 4,
  "nbformat_minor": 0,
  "metadata": {
    "colab": {
      "provenance": []
    },
    "kernelspec": {
      "name": "python3",
      "display_name": "Python 3"
    },
    "language_info": {
      "name": "python"
    }
  },
  "cells": [
    {
      "cell_type": "markdown",
      "source": [
        "# **1.Explain the key features of python that makes it is popular choice for programming**"
      ],
      "metadata": {
        "id": "mXwv_NY9dKrO"
      }
    },
    {
      "cell_type": "markdown",
      "source": [
        "python is formal programming language.it's easy to understand and the some basic properties or key features of python are -\n",
        "\n",
        "*   easy to read\n",
        "*   easy to code and also easy to code\n",
        "*   object orientated programming language\n",
        "*   easy to debug the code\n",
        "*   easy to transfer the code from one device to another device\n",
        "*   wide no of libraries present which make easy to understand and help in coding\n",
        "\n",
        "---\n",
        "\n",
        "\n",
        "that are a some reason which make people choice for programming is python\n",
        "\n",
        "\n",
        "\n",
        "\n",
        "\n"
      ],
      "metadata": {
        "id": "LMGiDMjVTy_G"
      }
    },
    {
      "cell_type": "markdown",
      "source": [
        "# 2.Describe the role of predefined keywords in Python and provide examples of how they are used in a program\n"
      ],
      "metadata": {
        "id": "feaervM-T-JO"
      }
    },
    {
      "cell_type": "markdown",
      "source": [
        "They are the reserve word which can perform a specific function or task only and not used for any other purpose in a whole execution of code.\n",
        "EXAMPLE = AND --> it is a logical operator which is reserve keyword that onlu used to get a vlaue on true or false\n",
        "\n",
        "OR --. logical operator same as a AND operator which have a specified keyword that perform own function only\n",
        "\n",
        "---\n",
        "\n",
        "\n",
        "\n"
      ],
      "metadata": {
        "id": "gQctFWsCV0uC"
      }
    },
    {
      "cell_type": "markdown",
      "source": [
        "# 3.Compare and contrast mutable and immutable objects in Python with examples.\n"
      ],
      "metadata": {
        "id": "g5mhPuU3VzZ6"
      }
    },
    {
      "cell_type": "markdown",
      "source": [
        "**MUTABLE** = after giving value the given value has tendency to get change in it.and that's known as a mutable object\n",
        "\n",
        "list a = [ 1,2,3,4,5,5,6]\n",
        "\n",
        "list a[2] = 98\n",
        "list a = [1,2,98,4,5,5,6]\n",
        "\n",
        "--> list is a type of mutable object\n",
        "**IMMUTABLE** = after giving value the given value has not tendency to get change in it.and that's known as a immutable object\n",
        "a = \"CR7\"\n",
        "a[0]=\"J\"\n",
        "it's give a error because it can't be changed\n",
        "\n",
        "--> String , tuple are a example of immutable object\n",
        "\n",
        "---\n",
        "\n"
      ],
      "metadata": {
        "id": "yb3UsrrZXK3P"
      }
    },
    {
      "cell_type": "markdown",
      "source": [
        "# **4.Discuss the different types of operators in Python and provide examples of how they are used**\n",
        "Operator is a special keyword or operand which perform a specific function on given value or variable\n",
        "\n",
        "--> Arithematic operator = + , - , * , / , %.....etc\n",
        "\n",
        "--> Logical operator = OR , AND\n",
        "\n",
        "--> Assignment Operator = (= , += , -= , /= , *=...etc)\n",
        "\n",
        "--> Comparision operator = ( == , += , -= , /= ...etc)\n",
        "\n",
        "--> Bitwise operator = | , & , ^ , - , << , >>\n",
        "\n",
        "ex = a = 3 , here = is operator which assign a value 3 to a\n",
        "\n",
        "\n",
        "---\n",
        "\n",
        "\n"
      ],
      "metadata": {
        "id": "AvlMvhFxXK-x"
      }
    },
    {
      "cell_type": "markdown",
      "source": [
        "# **5.Explain the concept of type casting in Python with examples**\n",
        "it is process in which we can change the data type of given value and also called as a data conversion\n",
        "\n",
        "EX --> a ='3'\n",
        "  \n",
        "   type(a) -------output = str\n",
        "\n",
        "   type(int(a))  #typecasting\n",
        "\n",
        "   type(a) ------------output = int\n",
        "\n",
        "\n",
        "```\n",
        "a = 7\n",
        "type(a)\n",
        "type(int(a))  #type casting\n",
        "a\n",
        "```\n",
        "\n",
        "\n",
        "---\n",
        "\n",
        "\n",
        "\n"
      ],
      "metadata": {
        "id": "X_SCTH88XLFx"
      }
    },
    {
      "cell_type": "markdown",
      "source": [
        "# **6. How do conditional statements work in Python? Illustrate with examples**\n",
        "Generally, the conditional statement work on the given condition which is given in a execution of code if the condition is true then the code will execute other wise it will not run\n",
        "\n",
        "EX = if we take example of IF-ELSE statement\n",
        "\n",
        "\n",
        "```\n",
        "a = 7\n",
        "if a == 3:\n",
        "  print(\"CR7\")\n",
        "else:\n",
        "  print(\"RONALDO IS GOAT\")\n",
        "  #if a==3 then it print cr7 otherwise it print ronaldo is great\n",
        "```\n",
        "---\n"
      ],
      "metadata": {
        "id": "H-kMD9whXLIz"
      }
    },
    {
      "cell_type": "markdown",
      "source": [
        "# **7.Describe the different types of loops in Python and their use cases with examples**\n",
        "WHILE LOOP --> we can execute a set of statement as long as a condition is true\n",
        "to repeat/run a specific block of code an unknown no of times until a condition is true\n",
        "```\n",
        "i = 1\n",
        "while i<6:\n",
        "      print(i)\n",
        "if i == 3:\n",
        "      break\n",
        "i++\n",
        "```\n",
        "FOR LOOP --> used to iterate over a sequence , going through each element or variable one by  one\n",
        "\n",
        "```\n",
        "size = 4\n",
        "for i in range (4)\n",
        "    print(\" * \" , size )\n",
        "#output ------ square asterick\n",
        "```\n",
        "\n",
        "\n",
        "---\n",
        "\n",
        "\n",
        "\n"
      ],
      "metadata": {
        "id": "PPjTwP5lXLL8"
      }
    }
  ]
}